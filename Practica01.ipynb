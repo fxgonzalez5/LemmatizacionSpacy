{
 "cells": [
  {
   "cell_type": "code",
   "execution_count": 2,
   "id": "63d470a1",
   "metadata": {},
   "outputs": [],
   "source": [
    "# Importación de librerias\n",
    "import spacy\n",
    "import pandas as pd"
   ]
  },
  {
   "cell_type": "markdown",
   "id": "805caa68",
   "metadata": {},
   "source": [
    "# Manejo de Datos"
   ]
  },
  {
   "cell_type": "code",
   "execution_count": 4,
   "id": "8afe3be6",
   "metadata": {},
   "outputs": [
    {
     "data": {
      "text/html": [
       "<div>\n",
       "<style scoped>\n",
       "    .dataframe tbody tr th:only-of-type {\n",
       "        vertical-align: middle;\n",
       "    }\n",
       "\n",
       "    .dataframe tbody tr th {\n",
       "        vertical-align: top;\n",
       "    }\n",
       "\n",
       "    .dataframe thead th {\n",
       "        text-align: right;\n",
       "    }\n",
       "</style>\n",
       "<table border=\"1\" class=\"dataframe\">\n",
       "  <thead>\n",
       "    <tr style=\"text-align: right;\">\n",
       "      <th></th>\n",
       "      <th>Unnamed: 0</th>\n",
       "      <th>feedback</th>\n",
       "      <th>codigo</th>\n",
       "    </tr>\n",
       "  </thead>\n",
       "  <tbody>\n",
       "    <tr>\n",
       "      <th>0</th>\n",
       "      <td>1866</td>\n",
       "      <td>De acuerdo a las gráficas elegidas, las mismas...</td>\n",
       "      <td>1866</td>\n",
       "    </tr>\n",
       "    <tr>\n",
       "      <th>1</th>\n",
       "      <td>1867</td>\n",
       "      <td>Nombres de los paises</td>\n",
       "      <td>1867</td>\n",
       "    </tr>\n",
       "    <tr>\n",
       "      <th>2</th>\n",
       "      <td>1868</td>\n",
       "      <td>Ninguna</td>\n",
       "      <td>1868</td>\n",
       "    </tr>\n",
       "    <tr>\n",
       "      <th>3</th>\n",
       "      <td>1874</td>\n",
       "      <td>Creo que hace falta dar un color a cada carrer...</td>\n",
       "      <td>1874</td>\n",
       "    </tr>\n",
       "    <tr>\n",
       "      <th>4</th>\n",
       "      <td>1875</td>\n",
       "      <td>Unirlos en su solo gráfico, aunque cada uno es...</td>\n",
       "      <td>1875</td>\n",
       "    </tr>\n",
       "    <tr>\n",
       "      <th>...</th>\n",
       "      <td>...</td>\n",
       "      <td>...</td>\n",
       "      <td>...</td>\n",
       "    </tr>\n",
       "    <tr>\n",
       "      <th>101195</th>\n",
       "      <td>691076</td>\n",
       "      <td>bien</td>\n",
       "      <td>691076</td>\n",
       "    </tr>\n",
       "    <tr>\n",
       "      <th>101196</th>\n",
       "      <td>691078</td>\n",
       "      <td>ten un buen dia</td>\n",
       "      <td>691078</td>\n",
       "    </tr>\n",
       "    <tr>\n",
       "      <th>101197</th>\n",
       "      <td>691083</td>\n",
       "      <td>bien</td>\n",
       "      <td>691083</td>\n",
       "    </tr>\n",
       "    <tr>\n",
       "      <th>101198</th>\n",
       "      <td>691142</td>\n",
       "      <td>Buen trabajo</td>\n",
       "      <td>691142</td>\n",
       "    </tr>\n",
       "    <tr>\n",
       "      <th>101199</th>\n",
       "      <td>691143</td>\n",
       "      <td>Buen trabajo</td>\n",
       "      <td>691143</td>\n",
       "    </tr>\n",
       "  </tbody>\n",
       "</table>\n",
       "<p>101200 rows × 3 columns</p>\n",
       "</div>"
      ],
      "text/plain": [
       "        Unnamed: 0                                           feedback  codigo\n",
       "0             1866  De acuerdo a las gráficas elegidas, las mismas...    1866\n",
       "1             1867                              Nombres de los paises    1867\n",
       "2             1868                                            Ninguna    1868\n",
       "3             1874  Creo que hace falta dar un color a cada carrer...    1874\n",
       "4             1875  Unirlos en su solo gráfico, aunque cada uno es...    1875\n",
       "...            ...                                                ...     ...\n",
       "101195      691076                                               bien  691076\n",
       "101196      691078                                    ten un buen dia  691078\n",
       "101197      691083                                               bien  691083\n",
       "101198      691142                                      Buen trabajo   691142\n",
       "101199      691143                                       Buen trabajo  691143\n",
       "\n",
       "[101200 rows x 3 columns]"
      ]
     },
     "execution_count": 4,
     "metadata": {},
     "output_type": "execute_result"
    }
   ],
   "source": [
    "datos = pd.read_csv(\"data\\data_total_con_codigo_001.csv\") # Extracción de la data\n",
    "datos"
   ]
  },
  {
   "cell_type": "code",
   "execution_count": 10,
   "id": "65dd0eda",
   "metadata": {},
   "outputs": [
    {
     "data": {
      "text/plain": [
       "'De acuerdo a las gráficas elegidas, las mismas estarian completas'"
      ]
     },
     "execution_count": 10,
     "metadata": {},
     "output_type": "execute_result"
    }
   ],
   "source": [
    "frase = datos['feedback'][0]\n",
    "frase"
   ]
  },
  {
   "cell_type": "markdown",
   "id": "03196924",
   "metadata": {},
   "source": [
    "# Aplicando Spacy"
   ]
  },
  {
   "cell_type": "code",
   "execution_count": 14,
   "id": "297e94dd",
   "metadata": {},
   "outputs": [],
   "source": [
    "nlp = spacy.load(\"es_core_news_sm\") #Carga de la instancia del modelo de lenguaje"
   ]
  },
  {
   "cell_type": "markdown",
   "id": "5e580c69",
   "metadata": {},
   "source": [
    "## Pre-procesamiento de los datos"
   ]
  },
  {
   "cell_type": "code",
   "execution_count": 15,
   "id": "a9ed2cf3",
   "metadata": {},
   "outputs": [
    {
     "data": {
      "text/plain": [
       "[gráficas, elegidas, estarian, completas]"
      ]
     },
     "execution_count": 15,
     "metadata": {},
     "output_type": "execute_result"
    }
   ],
   "source": [
    "doc = nlp(frase) # Creación de un documento para procesar\n",
    "\n",
    "stopWords = ['De', 'acuerdo', 'a', 'las', 'mismas', ','] # Creación de una lista para palabras que no aportan nada\n",
    "\n",
    "words = [] # Creación de una lista vacía\n",
    "\n",
    "# Extración de las palabras relevantes que se pueden lemmatizar\n",
    "for word in doc:\n",
    "    if word.text not in stopWords:\n",
    "        words.append(word)\n",
    "\n",
    "words"
   ]
  },
  {
   "cell_type": "code",
   "execution_count": 16,
   "id": "78e81952",
   "metadata": {},
   "outputs": [
    {
     "name": "stdout",
     "output_type": "stream",
     "text": [
      "gráfica elegido estariar completa\n"
     ]
    }
   ],
   "source": [
    "empty_list = [] # Creación de una lista vacía\n",
    "\n",
    "# Inserción de las palabras lematizadas\n",
    "for token in words:\n",
    "    empty_list.append(token.lemma_)\n",
    "\n",
    "# Unión de las palabras en una frase\n",
    "final_string = ' '.join(map(str,empty_list))\n",
    "print(final_string)"
   ]
  }
 ],
 "metadata": {
  "kernelspec": {
   "display_name": "Python 3 (ipykernel)",
   "language": "python",
   "name": "python3"
  },
  "language_info": {
   "codemirror_mode": {
    "name": "ipython",
    "version": 3
   },
   "file_extension": ".py",
   "mimetype": "text/x-python",
   "name": "python",
   "nbconvert_exporter": "python",
   "pygments_lexer": "ipython3",
   "version": "3.10.2"
  }
 },
 "nbformat": 4,
 "nbformat_minor": 5
}
